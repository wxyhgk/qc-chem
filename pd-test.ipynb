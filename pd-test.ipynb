{
 "cells": [
  {
   "cell_type": "code",
   "execution_count": 3,
   "metadata": {},
   "outputs": [],
   "source": [
    "import pandas as pd"
   ]
  },
  {
   "cell_type": "code",
   "execution_count": 4,
   "metadata": {},
   "outputs": [],
   "source": [
    "data = {\n",
    "    'name': ['John', 'Anna', 'Peter', 'Linda'],\n",
    "    'age': [24, 13, 53, 33]\n",
    "}\n",
    "\n",
    "df = pd.DataFrame(data)"
   ]
  },
  {
   "cell_type": "code",
   "execution_count": 5,
   "metadata": {},
   "outputs": [
    {
     "name": "stdout",
     "output_type": "stream",
     "text": [
      "    name  age\n",
      "0   John   24\n",
      "1   Anna   13\n",
      "2  Peter   53\n",
      "3  Linda   33\n"
     ]
    }
   ],
   "source": [
    "print(df)"
   ]
  },
  {
   "cell_type": "code",
   "execution_count": 6,
   "metadata": {},
   "outputs": [],
   "source": [
    "file_name = \"平安保险2020年-10w.xlsx\"\n",
    "\n",
    "file_df = pd.read_excel(file_name)"
   ]
  },
  {
   "cell_type": "code",
   "execution_count": 10,
   "metadata": {},
   "outputs": [
    {
     "name": "stdout",
     "output_type": "stream",
     "text": [
      "        产品名称       金额   保障期限   姓名                 身份证 性别           手机  \\\n",
      "0  白领一年期意外保障  20575.0     1年   王超  510421198710270516  男  18281213656   \n",
      "1   国内-自助游保险  72830.0  1-90天  汪小文  340823198902087516  男  18665092282   \n",
      "2   i康保·少儿配齐  14674.0  1年及以下   王倬  430404197810181034  男  13764082650   \n",
      "\n",
      "                      邮箱   省份    城市           月收入 婚姻状况       保单形式  \\\n",
      "0    18281213656@163.com  四川省  攀枝花市    6000－9999元   已婚  电子保单 纸质保单   \n",
      "1    18665092282@139.com  浙江省   杭州市  10000－14999元   未婚  电子保单 纸质保单   \n",
      "2  sales@dongchanggm.com  上海市   上海市    6000－9999元   已婚       电子保单   \n",
      "\n",
      "             保险责任  投保目的   缴费期限  \n",
      "0  《一年期综合意外险适用条款》  综合意外  一次性缴清  \n",
      "1     《旅行意外险适用条款》  国内旅游  一次性缴费  \n",
      "2  《i康保·少儿配齐适用条款》  重疾保障   1年以下  \n"
     ]
    }
   ],
   "source": [
    "print(file_df.head(3))"
   ]
  },
  {
   "cell_type": "code",
   "execution_count": 14,
   "metadata": {},
   "outputs": [
    {
     "name": "stdout",
     "output_type": "stream",
     "text": [
      "0    20575.0\n",
      "1    72830.0\n",
      "2    14674.0\n",
      "Name: 金额, dtype: float64\n"
     ]
    }
   ],
   "source": [
    "lie1 = file_df.head(3)['金额']\n",
    "print(lie1)"
   ]
  },
  {
   "cell_type": "code",
   "execution_count": 16,
   "metadata": {},
   "outputs": [
    {
     "name": "stdout",
     "output_type": "stream",
     "text": [
      "产品名称              白领一年期意外保障\n",
      "金额                  20575.0\n",
      "保障期限                     1年\n",
      "姓名                       王超\n",
      "身份证      510421198710270516\n",
      "性别                        男\n",
      "手机              18281213656\n",
      "邮箱      18281213656@163.com\n",
      "省份                      四川省\n",
      "城市                     攀枝花市\n",
      "月收入              6000－9999元\n",
      "婚姻状况                     已婚\n",
      "保单形式              电子保单 纸质保单\n",
      "保险责任         《一年期综合意外险适用条款》\n",
      "投保目的                   综合意外\n",
      "缴费期限                  一次性缴清\n",
      "Name: 0, dtype: object\n"
     ]
    }
   ],
   "source": [
    "hang1 = file_df.head(3).loc[0]\n",
    "print(hang1)"
   ]
  },
  {
   "cell_type": "code",
   "execution_count": 21,
   "metadata": {},
   "outputs": [
    {
     "name": "stdout",
     "output_type": "stream",
     "text": [
      "        产品名称        金额   保障期限   姓名                 身份证 性别           手机  \\\n",
      "1   国内-自助游保险  72830.00  1-90天  汪小文  340823198902087516  男  18665092282   \n",
      "3    i康保老年医疗  43694.00     一年   孙涛  511321198902084414  男  13558792199   \n",
      "6  平安e生保2020  36515.78     一年   陈希  320582199402255151  男  13915466930   \n",
      "\n",
      "                    邮箱   省份   城市           月收入 婚姻状况       保单形式  \\\n",
      "1  18665092282@139.com  浙江省  杭州市  10000－14999元   未婚  电子保单 纸质保单   \n",
      "3  13558792199@139.com  四川省  南充市    6000－9999元   未婚       电子保单   \n",
      "6       chenxi@163.com  江苏省  苏州市    6000－9999元   未婚       电子保单   \n",
      "\n",
      "                    保险责任  投保目的   缴费期限  \n",
      "1            《旅行意外险适用条款》  国内旅游  一次性缴费  \n",
      "3  《i康保·老年医疗（三高版)保险适用条款》  住院医疗     一年  \n",
      "6      《平安e生保2020医疗保险条款》  住院医疗     一年  \n"
     ]
    }
   ],
   "source": [
    "hight_file = file_df[file_df['金额'] > 30000]\n",
    "print(hight_file.head(3))"
   ]
  },
  {
   "cell_type": "code",
   "execution_count": 24,
   "metadata": {},
   "outputs": [
    {
     "name": "stdout",
     "output_type": "stream",
     "text": [
      "          产品名称        金额           保障期限   姓名                 身份证 性别  \\\n",
      "11493   家庭财产保险  90509.29        1年（可续保）  彭小英  610322197203060717  男   \n",
      "30394   境外工作保险  90507.00  1-12个月可选（可续保）   赵强  510725198601157436  男   \n",
      "38378    团体国内游  90507.00          1-90天  黄少江  445121198406123159  男   \n",
      "13745    台湾旅游险  90505.00             1年   刘泉  420111199301141370  男   \n",
      "48036  老年人综合保险  90504.00             一年   周磊  420606198611040016  男   \n",
      "\n",
      "                手机                   邮箱   省份   城市           月收入 婚姻状况  \\\n",
      "11493  13109525803      98498498@qq.com  陕西省  宝鸡市    6000－9999元   已婚   \n",
      "30394  15198296534  15198296534@139.com  四川省  成都市  25000－29999元   已婚   \n",
      "38378  13776637771  13776637771@139.com  广东省  潮州市    6000－9999元   已婚   \n",
      "13745  13554221733         SAAF@163.COM  湖北省  武汉市    6000－9999元   已婚   \n",
      "48036  13797737727   13797737727@qq.com  湖北省  襄阳市    3000－5999元   已婚   \n",
      "\n",
      "             保单形式              保险责任     投保目的   缴费期限  \n",
      "11493   电子保单 纸质保单        《家庭财产保险条款》     家庭财产  一次性缴费  \n",
      "30394  电子保单  纸质保单      《境外工作保险适用条款》  境外留学/工作  一次性缴费  \n",
      "38378   电子保单 纸质保单  《平安团体国内旅游保险适用条款》     综合意外  一次性缴清  \n",
      "13745   电子保单 纸质保单     《宝岛台湾旅游险适用条款》     国内旅游   一次缴清  \n",
      "48036        电子保单       《老年人综合保险条款》     综合保障  一次性缴费  \n"
     ]
    }
   ],
   "source": [
    "sort_file = file_df.sort_values(by='金额', ascending=False)\n",
    "print(sort_file.head(5))"
   ]
  },
  {
   "cell_type": "code",
   "execution_count": null,
   "metadata": {},
   "outputs": [],
   "source": []
  }
 ],
 "metadata": {
  "kernelspec": {
   "display_name": "Python 3",
   "language": "python",
   "name": "python3"
  },
  "language_info": {
   "codemirror_mode": {
    "name": "ipython",
    "version": 3
   },
   "file_extension": ".py",
   "mimetype": "text/x-python",
   "name": "python",
   "nbconvert_exporter": "python",
   "pygments_lexer": "ipython3",
   "version": "3.9.6"
  }
 },
 "nbformat": 4,
 "nbformat_minor": 2
}
