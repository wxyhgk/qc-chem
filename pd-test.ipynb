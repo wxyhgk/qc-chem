{
 "cells": [
  {
   "cell_type": "code",
   "execution_count": 2,
   "metadata": {},
   "outputs": [],
   "source": [
    "import pandas as pd"
   ]
  },
  {
   "cell_type": "code",
   "execution_count": 3,
   "metadata": {},
   "outputs": [],
   "source": [
    "data = {\n",
    "    'name': ['John', 'Anna', 'Peter', 'Linda'],\n",
    "    'age': [24, 13, 53, 33]\n",
    "}\n",
    "\n",
    "df = pd.DataFrame(data)"
   ]
  },
  {
   "cell_type": "code",
   "execution_count": 4,
   "metadata": {},
   "outputs": [
    {
     "name": "stdout",
     "output_type": "stream",
     "text": [
      "    name  age\n",
      "0   John   24\n",
      "1   Anna   13\n",
      "2  Peter   53\n",
      "3  Linda   33\n"
     ]
    }
   ],
   "source": [
    "print(df)"
   ]
  },
  {
   "cell_type": "code",
   "execution_count": 5,
   "metadata": {},
   "outputs": [],
   "source": [
    "file_name = \"平安保险2020年-10w.xlsx\"\n",
    "\n",
    "file_df = pd.read_excel(file_name)"
   ]
  },
  {
   "cell_type": "code",
   "execution_count": 6,
   "metadata": {},
   "outputs": [
    {
     "name": "stdout",
     "output_type": "stream",
     "text": [
      "        产品名称       金额   保障期限   姓名                 身份证 性别           手机  \\\n",
      "0  白领一年期意外保障  20575.0     1年   王超  510421198710270516  男  18281213656   \n",
      "1   国内-自助游保险  72830.0  1-90天  汪小文  340823198902087516  男  18665092282   \n",
      "2   i康保·少儿配齐  14674.0  1年及以下   王倬  430404197810181034  男  13764082650   \n",
      "\n",
      "                      邮箱   省份    城市           月收入 婚姻状况       保单形式  \\\n",
      "0    18281213656@163.com  四川省  攀枝花市    6000－9999元   已婚  电子保单 纸质保单   \n",
      "1    18665092282@139.com  浙江省   杭州市  10000－14999元   未婚  电子保单 纸质保单   \n",
      "2  sales@dongchanggm.com  上海市   上海市    6000－9999元   已婚       电子保单   \n",
      "\n",
      "             保险责任  投保目的   缴费期限  \n",
      "0  《一年期综合意外险适用条款》  综合意外  一次性缴清  \n",
      "1     《旅行意外险适用条款》  国内旅游  一次性缴费  \n",
      "2  《i康保·少儿配齐适用条款》  重疾保障   1年以下  \n"
     ]
    }
   ],
   "source": [
    "print(file_df.head(3))"
   ]
  },
  {
   "cell_type": "code",
   "execution_count": 7,
   "metadata": {},
   "outputs": [
    {
     "name": "stdout",
     "output_type": "stream",
     "text": [
      "0    20575.0\n",
      "1    72830.0\n",
      "2    14674.0\n",
      "Name: 金额, dtype: float64\n"
     ]
    }
   ],
   "source": [
    "lie1 = file_df.head(3)['金额']\n",
    "print(lie1)"
   ]
  },
  {
   "cell_type": "code",
   "execution_count": 8,
   "metadata": {},
   "outputs": [
    {
     "name": "stdout",
     "output_type": "stream",
     "text": [
      "产品名称              白领一年期意外保障\n",
      "金额                  20575.0\n",
      "保障期限                     1年\n",
      "姓名                       王超\n",
      "身份证      510421198710270516\n",
      "性别                        男\n",
      "手机              18281213656\n",
      "邮箱      18281213656@163.com\n",
      "省份                      四川省\n",
      "城市                     攀枝花市\n",
      "月收入              6000－9999元\n",
      "婚姻状况                     已婚\n",
      "保单形式              电子保单 纸质保单\n",
      "保险责任         《一年期综合意外险适用条款》\n",
      "投保目的                   综合意外\n",
      "缴费期限                  一次性缴清\n",
      "Name: 0, dtype: object\n"
     ]
    }
   ],
   "source": [
    "hang1 = file_df.head(3).loc[0]\n",
    "print(hang1)"
   ]
  },
  {
   "cell_type": "code",
   "execution_count": 12,
   "metadata": {},
   "outputs": [
    {
     "name": "stdout",
     "output_type": "stream",
     "text": [
      "        产品名称        金额   保障期限   姓名                 身份证 性别           手机  \\\n",
      "1   国内-自助游保险  72830.00  1-90天  汪小文  340823198902087516  男  18665092282   \n",
      "3    i康保老年医疗  43694.00     一年   孙涛  511321198902084414  男  13558792199   \n",
      "6  平安e生保2020  36515.78     一年   陈希  320582199402255151  男  13915466930   \n",
      "\n",
      "                    邮箱   省份   城市           月收入 婚姻状况       保单形式  \\\n",
      "1  18665092282@139.com  浙江省  杭州市  10000－14999元   未婚  电子保单 纸质保单   \n",
      "3  13558792199@139.com  四川省  南充市    6000－9999元   未婚       电子保单   \n",
      "6       chenxi@163.com  江苏省  苏州市    6000－9999元   未婚       电子保单   \n",
      "\n",
      "                    保险责任  投保目的   缴费期限  \n",
      "1            《旅行意外险适用条款》  国内旅游  一次性缴费  \n",
      "3  《i康保·老年医疗（三高版)保险适用条款》  住院医疗     一年  \n",
      "6      《平安e生保2020医疗保险条款》  住院医疗     一年  \n"
     ]
    }
   ],
   "source": [
    "hight_file = file_df[file_df['金额'] > 30000]\n",
    "print(hight_file.head(3))"
   ]
  },
  {
   "cell_type": "code",
   "execution_count": 10,
   "metadata": {},
   "outputs": [
    {
     "name": "stdout",
     "output_type": "stream",
     "text": [
      "            产品名称     金额      保障期限   姓名                 身份证 性别           手机  \\\n",
      "3032      全车无忧保险  898.0   1年（可续保）  冯艳锋  130434198207272013  男  13603101337   \n",
      "84405  一年期重大疾病保险  898.0  一年（续保9折）  崔志斌  140402196812272419  男  13903556426   \n",
      "17047     家庭财产保险  898.0   1年（可续保）  杨福祯  132129194901091411  男  13699965632   \n",
      "17727   抗癌卫士2020  898.0   一年（可续买）   邢海  460022198912231216  男  18389735500   \n",
      "9859     成人重大疾病险  898.0        一年   李辉  130921198805231217  男  15832752517   \n",
      "\n",
      "                        邮箱        省份         城市           月收入 婚姻状况       保单形式  \\\n",
      "3032   13230039658@139.com       河北省        邯郸市    3000－5999元   已婚  电子保单 纸质保单   \n",
      "84405  13903556426@126.com       山西省        长治市  10000－14999元   已婚       电子保单   \n",
      "17047  13699965632@163.com  新疆维吾尔自治区      乌鲁木齐市    6000－9999元   已婚  电子保单 纸质保单   \n",
      "17727  18389735500@163.com       海南省  省直辖县级行政区划  10000－14999元   未婚       电子保单   \n",
      "9859   15832752517@163.com       河北省        沧州市    6000－9999元   未婚  电子保单、纸质保单   \n",
      "\n",
      "                    保险责任  投保目的   缴费期限  \n",
      "3032      《平安全车无忧保险适用条款》  出行交通  一次性缴费  \n",
      "84405  《平安一年期重大疾病保险适用条款》  重大疾病  一次性缴费  \n",
      "17047         《家庭财产保险条款》  家庭财产  一次性缴费  \n",
      "17727   《平安抗癌卫士2020保险条款》  重大疾病     一年  \n",
      "9859    《平安成人重大疾病保险适用条款》  重大疾病     一年  \n"
     ]
    }
   ],
   "source": [
    "sort_file = file_df.sort_values(by='金额', ascending=True)\n",
    "print(sort_file.head(5))"
   ]
  },
  {
   "cell_type": "code",
   "execution_count": 19,
   "metadata": {},
   "outputs": [
    {
     "data": {
      "text/plain": [
       "28495.69778301419"
      ]
     },
     "execution_count": 19,
     "metadata": {},
     "output_type": "execute_result"
    }
   ],
   "source": [
    "# 计算金额平均值\n",
    "file_df[\"金额\"].mean()"
   ]
  },
  {
   "cell_type": "code",
   "execution_count": 22,
   "metadata": {},
   "outputs": [
    {
     "data": {
      "text/plain": [
       "30439.485"
      ]
     },
     "execution_count": 22,
     "metadata": {},
     "output_type": "execute_result"
    }
   ],
   "source": [
    "# 计算前 8 行的数据\n",
    "file_df[\"金额\"].iloc[:8].mean()"
   ]
  },
  {
   "cell_type": "code",
   "execution_count": 25,
   "metadata": {},
   "outputs": [
    {
     "data": {
      "text/plain": [
       "18272.666666666668"
      ]
     },
     "execution_count": 25,
     "metadata": {},
     "output_type": "execute_result"
    }
   ],
   "source": [
    "file_df[\"金额\"].iloc[[0,2,4]].mean()"
   ]
  },
  {
   "cell_type": "code",
   "execution_count": 28,
   "metadata": {},
   "outputs": [
    {
     "data": {
      "text/plain": [
       "27087.376"
      ]
     },
     "execution_count": 28,
     "metadata": {},
     "output_type": "execute_result"
    }
   ],
   "source": [
    "file_df[\"金额\"].iloc[3:8].mean()"
   ]
  },
  {
   "cell_type": "code",
   "execution_count": 34,
   "metadata": {},
   "outputs": [
    {
     "data": {
      "text/html": [
       "<div>\n",
       "<style scoped>\n",
       "    .dataframe tbody tr th:only-of-type {\n",
       "        vertical-align: middle;\n",
       "    }\n",
       "\n",
       "    .dataframe tbody tr th {\n",
       "        vertical-align: top;\n",
       "    }\n",
       "\n",
       "    .dataframe thead th {\n",
       "        text-align: right;\n",
       "    }\n",
       "</style>\n",
       "<table border=\"1\" class=\"dataframe\">\n",
       "  <thead>\n",
       "    <tr style=\"text-align: right;\">\n",
       "      <th></th>\n",
       "      <th>金额</th>\n",
       "    </tr>\n",
       "  </thead>\n",
       "  <tbody>\n",
       "    <tr>\n",
       "      <th>sum</th>\n",
       "      <td>2.872081e+09</td>\n",
       "    </tr>\n",
       "    <tr>\n",
       "      <th>mean</th>\n",
       "      <td>2.849570e+04</td>\n",
       "    </tr>\n",
       "    <tr>\n",
       "      <th>min</th>\n",
       "      <td>8.980000e+02</td>\n",
       "    </tr>\n",
       "  </tbody>\n",
       "</table>\n",
       "</div>"
      ],
      "text/plain": [
       "                金额\n",
       "sum   2.872081e+09\n",
       "mean  2.849570e+04\n",
       "min   8.980000e+02"
      ]
     },
     "execution_count": 34,
     "metadata": {},
     "output_type": "execute_result"
    }
   ],
   "source": [
    "# agg 方法\n",
    "file_df.agg({\"金额\": [\"sum\", \"mean\",\"min\"]})"
   ]
  },
  {
   "cell_type": "code",
   "execution_count": 35,
   "metadata": {},
   "outputs": [
    {
     "data": {
      "text/plain": [
       "sum     2.872081e+09\n",
       "mean    2.849570e+04\n",
       "min     8.980000e+02\n",
       "Name: 金额, dtype: float64"
      ]
     },
     "execution_count": 35,
     "metadata": {},
     "output_type": "execute_result"
    }
   ],
   "source": [
    "file_df[\"金额\"].agg([\"sum\", \"mean\",\"min\"])"
   ]
  },
  {
   "cell_type": "code",
   "execution_count": 36,
   "metadata": {},
   "outputs": [
    {
     "data": {
      "text/plain": [
       "0         -7920.697783\n",
       "1         44334.302217\n",
       "2        -13821.697783\n",
       "3         15198.302217\n",
       "4         -8926.697783\n",
       "              ...     \n",
       "100785   -26484.697783\n",
       "100786   -25016.697783\n",
       "100787   -15935.697783\n",
       "100788   -15579.697783\n",
       "100789   -12060.697783\n",
       "Name: 金额, Length: 100790, dtype: float64"
      ]
     },
     "execution_count": 36,
     "metadata": {},
     "output_type": "execute_result"
    }
   ],
   "source": [
    "# transformmation\n",
    "file_df[\"金额\"].transform(lambda x: x - x.mean())"
   ]
  },
  {
   "cell_type": "code",
   "execution_count": 39,
   "metadata": {},
   "outputs": [],
   "source": [
    "# filtering 方法"
   ]
  },
  {
   "cell_type": "code",
   "execution_count": 20,
   "metadata": {},
   "outputs": [
    {
     "name": "stdout",
     "output_type": "stream",
     "text": [
      "10\n",
      "  商品名称  购买金额\n",
      "0   苹果    10\n",
      "3   苹果    10\n",
      "6   苹果    10\n",
      "20\n",
      "  商品名称  购买金额\n",
      "1   香蕉    20\n",
      "4   香蕉    20\n",
      "7   香蕉    20\n",
      "30\n",
      "  商品名称  购买金额\n",
      "2   橙子    30\n",
      "5   橙子    30\n"
     ]
    }
   ],
   "source": [
    "# group 讲解\n",
    "import pandas as pd\n",
    "\n",
    "# 创建一个简单的DataFrame\n",
    "df = pd.DataFrame({\n",
    "   '商品名称': ['苹果', '香蕉', '橙子', '苹果', '香蕉', '橙子', '苹果', '香蕉'],\n",
    "   '购买金额': [10, 20, 30, 10, 20, 30, 10, 20]\n",
    "})\n",
    "\n",
    "grouped = df.groupby('购买金额')\n",
    "\n",
    "for name, group in grouped:\n",
    "    print(name)\n",
    "    print(group)"
   ]
  },
  {
   "cell_type": "code",
   "execution_count": 1,
   "metadata": {},
   "outputs": [],
   "source": [
    "# group\n",
    "import pandas as pd"
   ]
  },
  {
   "cell_type": "code",
   "execution_count": 2,
   "metadata": {},
   "outputs": [],
   "source": [
    "data = {\n",
    "    \"city\": [\"北京\", \"上海\", \"广州\", \"深圳\", \"沈阳\"],\n",
    "    \"temperature\": [32, 31, 28, 33, 19],\n",
    "    \"humidity\": [80, 85, 78, 77, 32]\n",
    "}\n",
    "\n",
    "data_df = pd.DataFrame(data)"
   ]
  },
  {
   "cell_type": "code",
   "execution_count": 12,
   "metadata": {},
   "outputs": [
    {
     "name": "stdout",
     "output_type": "stream",
     "text": [
      "  city  temperature\n",
      "0   上海         31.0\n",
      "1   北京         32.0\n",
      "2   广州         28.0\n",
      "3   沈阳         19.0\n",
      "4   深圳         33.0\n"
     ]
    }
   ],
   "source": [
    "data_group_city = data_df.groupby(\"city\")\n",
    "\n",
    "mean_temperature = data_group_city[\"temperature\"].mean().reset_index()\n",
    "print(mean_temperature)"
   ]
  },
  {
   "cell_type": "code",
   "execution_count": 20,
   "metadata": {},
   "outputs": [
    {
     "name": "stdout",
     "output_type": "stream",
     "text": [
      "  city  humidity  temperature\n",
      "0   上海      85.0         31.0\n",
      "1   北京      80.0         32.0\n",
      "2   广州      78.0         28.0\n",
      "3   沈阳      32.0         19.0\n",
      "4   深圳      77.0         33.0\n"
     ]
    }
   ],
   "source": [
    "# 使用 mean 方法获取平均值,使用 reset_index 方法重置索引\n",
    "mean_humidity = data_group_city[[\"humidity\",\"temperature\"]].mean().reset_index()\n",
    "print(mean_humidity)"
   ]
  },
  {
   "cell_type": "code",
   "execution_count": 21,
   "metadata": {},
   "outputs": [
    {
     "name": "stdout",
     "output_type": "stream",
     "text": [
      "   emp_id     name  dept_id dept_name\n",
      "0       1    Alice        1        HR\n",
      "1       2      Bob        2      Tech\n",
      "2       3  Charlie        3   Finance\n"
     ]
    }
   ],
   "source": [
    "# 员工数据\n",
    "data_emp = {'emp_id': [1, 2, 3],\n",
    "            'name': ['Alice', 'Bob', 'Charlie']}\n",
    "\n",
    "# 部门数据\n",
    "data_dept = {'dept_id': [1, 2, 3],\n",
    "             'dept_name': ['HR', 'Tech', 'Finance']}\n",
    "\n",
    "df_emp = pd.DataFrame(data_emp)\n",
    "df_dept = pd.DataFrame(data_dept)\n",
    "\n",
    "# 合并数据\n",
    "merged = pd.merge(df_emp, df_dept, left_on='emp_id', right_on='dept_id')\n",
    "print(merged)"
   ]
  },
  {
   "cell_type": "code",
   "execution_count": 22,
   "metadata": {},
   "outputs": [
    {
     "name": "stdout",
     "output_type": "stream",
     "text": [
      "0  city           北京\n",
      "   temperature    22\n",
      "   humidity       60\n",
      "1  city           上海\n",
      "   temperature    18\n",
      "   humidity       65\n",
      "2  city           广州\n",
      "   temperature    30\n",
      "   humidity       70\n",
      "dtype: object\n",
      "  city temperature humidity\n",
      "0   北京          22       60\n",
      "1   上海          18       65\n",
      "2   广州          30       70\n"
     ]
    }
   ],
   "source": [
    "# 示例数据\n",
    "data = {'city': ['北京', '上海', '广州'],\n",
    "        'temperature': [22, 18, 30],\n",
    "        'humidity': [60, 65, 70]}\n",
    "\n",
    "df = pd.DataFrame(data)\n",
    "\n",
    "# 使用 stack\n",
    "stacked = df.stack()\n",
    "print(stacked)\n",
    "\n",
    "# 使用 unstack\n",
    "unstacked = stacked.unstack()\n",
    "print(unstacked)"
   ]
  },
  {
   "cell_type": "code",
   "execution_count": null,
   "metadata": {},
   "outputs": [],
   "source": []
  }
 ],
 "metadata": {
  "kernelspec": {
   "display_name": "Python 3",
   "language": "python",
   "name": "python3"
  },
  "language_info": {
   "codemirror_mode": {
    "name": "ipython",
    "version": 3
   },
   "file_extension": ".py",
   "mimetype": "text/x-python",
   "name": "python",
   "nbconvert_exporter": "python",
   "pygments_lexer": "ipython3",
   "version": "3.9.6"
  }
 },
 "nbformat": 4,
 "nbformat_minor": 2
}
